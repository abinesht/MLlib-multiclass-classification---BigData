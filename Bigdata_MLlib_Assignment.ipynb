{
  "nbformat": 4,
  "nbformat_minor": 0,
  "metadata": {
    "colab": {
      "provenance": [],
      "gpuType": "T4"
    },
    "kernelspec": {
      "name": "python3",
      "display_name": "Python 3"
    },
    "language_info": {
      "name": "python"
    },
    "accelerator": "GPU"
  },
  "cells": [
    {
      "cell_type": "code",
      "source": [
        "!pip install pyspark"
      ],
      "metadata": {
        "colab": {
          "base_uri": "https://localhost:8080/"
        },
        "id": "ktkYY3dEBWI2",
        "outputId": "5653223f-33de-40f7-e13c-fe60a785831f"
      },
      "execution_count": 1,
      "outputs": [
        {
          "output_type": "stream",
          "name": "stdout",
          "text": [
            "Collecting pyspark\n",
            "  Downloading pyspark-3.5.0.tar.gz (316.9 MB)\n",
            "\u001b[2K     \u001b[90m━━━━━━━━━━━━━━━━━━━━━━━━━━━━━━━━━━━━━━━━\u001b[0m \u001b[32m316.9/316.9 MB\u001b[0m \u001b[31m4.6 MB/s\u001b[0m eta \u001b[36m0:00:00\u001b[0m\n",
            "\u001b[?25h  Preparing metadata (setup.py) ... \u001b[?25l\u001b[?25hdone\n",
            "Requirement already satisfied: py4j==0.10.9.7 in /usr/local/lib/python3.10/dist-packages (from pyspark) (0.10.9.7)\n",
            "Building wheels for collected packages: pyspark\n",
            "  Building wheel for pyspark (setup.py) ... \u001b[?25l\u001b[?25hdone\n",
            "  Created wheel for pyspark: filename=pyspark-3.5.0-py2.py3-none-any.whl size=317425344 sha256=d51833da2d518775706f0d1acb7d544f142861ca98dc1fa2f30ce0c0fa6952f2\n",
            "  Stored in directory: /root/.cache/pip/wheels/41/4e/10/c2cf2467f71c678cfc8a6b9ac9241e5e44a01940da8fbb17fc\n",
            "Successfully built pyspark\n",
            "Installing collected packages: pyspark\n",
            "Successfully installed pyspark-3.5.0\n"
          ]
        }
      ]
    },
    {
      "cell_type": "code",
      "execution_count": 2,
      "metadata": {
        "id": "GIZfsridAzGK"
      },
      "outputs": [],
      "source": [
        "# Importing necessary libraries\n",
        "import seaborn as sns\n",
        "import matplotlib.pyplot as plt\n",
        "\n",
        "from pyspark.ml import Pipeline # pipeline to transform data\n",
        "from pyspark.sql import SparkSession # to initiate spark\n",
        "from pyspark.sql.types import FloatType\n",
        "from pyspark.ml.feature import RegexTokenizer # tokenizer\n",
        "from pyspark.ml.feature import HashingTF, IDF # vectorizer\n",
        "from pyspark.ml.feature import StopWordsRemover # to remove stop words\n",
        "from pyspark.sql.functions import concat_ws, col # to concatinate cols\n",
        "from pyspark.ml.classification import LogisticRegression # ml model\n",
        "from pyspark.ml.evaluation import MulticlassClassificationEvaluator # to evaluate the model\n",
        "from pyspark.mllib.evaluation import MulticlassMetrics # # performance metrics"
      ]
    },
    {
      "cell_type": "code",
      "source": [
        "# create a new spark session\n",
        "spark = SparkSession.builder.appName(\"song_classfier\")\\\n",
        "                            .getOrCreate()\n",
        "\n",
        "# show session details\n",
        "spark"
      ],
      "metadata": {
        "colab": {
          "base_uri": "https://localhost:8080/",
          "height": 219
        },
        "id": "3DHyatPqBUgw",
        "outputId": "5683ce17-54f1-498b-cf2e-3e89e98e63a1"
      },
      "execution_count": 3,
      "outputs": [
        {
          "output_type": "execute_result",
          "data": {
            "text/plain": [
              "<pyspark.sql.session.SparkSession at 0x7adec8da35b0>"
            ],
            "text/html": [
              "\n",
              "            <div>\n",
              "                <p><b>SparkSession - in-memory</b></p>\n",
              "                \n",
              "        <div>\n",
              "            <p><b>SparkContext</b></p>\n",
              "\n",
              "            <p><a href=\"http://3b42c2853cdf:4040\">Spark UI</a></p>\n",
              "\n",
              "            <dl>\n",
              "              <dt>Version</dt>\n",
              "                <dd><code>v3.5.0</code></dd>\n",
              "              <dt>Master</dt>\n",
              "                <dd><code>local[*]</code></dd>\n",
              "              <dt>AppName</dt>\n",
              "                <dd><code>song_classfier</code></dd>\n",
              "            </dl>\n",
              "        </div>\n",
              "        \n",
              "            </div>\n",
              "        "
            ]
          },
          "metadata": {},
          "execution_count": 3
        }
      ]
    },
    {
      "cell_type": "code",
      "source": [
        "# load dataset\n",
        "df = spark.read.csv(\"/content/tcc_ceds_music.csv\", inferSchema=True, header=True)\n",
        "\n",
        "# shows top 20 rows\n",
        "df.show()"
      ],
      "metadata": {
        "colab": {
          "base_uri": "https://localhost:8080/"
        },
        "id": "MEPl2hGAByqJ",
        "outputId": "1610a01b-530e-445b-b3c9-7d55c94f4709"
      },
      "execution_count": 7,
      "outputs": [
        {
          "output_type": "stream",
          "name": "stdout",
          "text": [
            "+---+--------------------+--------------------+------------+-----+--------------------+---+--------------------+--------------------+--------------------+--------------------+--------------------+--------------------+--------------------+--------------------+--------------------+--------------------+--------------------+------------------------+--------------------+--------------------+--------------------+--------------------+-------------------+-------------------+-------------------+--------------------+-------------------+-------------------+----------+------------------+\n",
            "|_c0|         artist_name|          track_name|release_date|genre|              lyrics|len|              dating|            violence|          world/life|          night/time|  shake the audience|       family/gospel|            romantic|       communication|             obscene|               music|     movement/places|light/visual perceptions|    family/spiritual|          like/girls|             sadness|            feelings|       danceability|           loudness|       acousticness|    instrumentalness|            valence|             energy|     topic|               age|\n",
            "+---+--------------------+--------------------+------------+-----+--------------------+---+--------------------+--------------------+--------------------+--------------------+--------------------+--------------------+--------------------+--------------------+--------------------+--------------------+--------------------+------------------------+--------------------+--------------------+--------------------+--------------------+-------------------+-------------------+-------------------+--------------------+-------------------+-------------------+----------+------------------+\n",
            "|  0|              mukesh|mohabbat bhi jhoothi|        1950|  pop|hold time feel br...| 95| 5.98086126288938E-4| 0.06374612761149936|5.980861568711991E-4|5.980861851733603E-4|5.980861274492461E-4| 0.04885701521695907|  0.0171043388602836|  0.2637508813174463|5.980861613241781E-4| 0.03928836592552566|5.980861922640663E-4|    5.980861380272807E-4|5.980861261369507E-4|5.980861796080522E-4|   0.380298895230333| 0.11717545142309628|0.35773854651792486|0.45411891392969767| 0.9979919658553876|  0.9018218623481781|0.33944765045342123|0.13711018802589228|   sadness|               1.0|\n",
            "|  4|       frankie laine|           i believe|        1950|  pop|believe drop rain...| 51|  0.0355371338259024| 0.09677674227829695| 0.44343517381864045|0.001283697113893...|0.001283697054027...| 0.02700747737752981|0.001283697149879...|0.001283697122283...|0.001283697114412...| 0.11803384116823598|0.001283697092589732|      0.2126810671851602| 0.05112419901776462|0.001283697056361...|0.001283697130026...|0.001283697175168...|0.33174482833315283|   0.64753993282568| 0.9548192317462166|1.528340080971659...| 0.3250206100577081| 0.2632402533492537|world/life|               1.0|\n",
            "|  6|         johnnie ray|                 cry|        1950|  pop|sweetheart send l...| 24|0.002770083112964...|0.002770083216950...|0.002770083338284...|0.002770083310265701|0.002770083105133...| 0.00277008314953857| 0.15856446565813143| 0.25066790992061416|0.002770083254843025|  0.3237940521915833|0.002770083466243...|    0.002770083321430...|0.002770083291967...|0.002770083513581458|0.002770083190828636| 0.22542232330826406|0.45629806130185213|  0.585288311155552| 0.8403612855032989|                 0.0|0.35181368507831823|0.13911225255483453|     music|               1.0|\n",
            "| 10|         pérez prado|            patricia|        1950|  pop|kiss lips want st...| 54| 0.04824912378369902|0.001547987647649...|0.001547987736006...|0.001547987822572...|0.021500355476212204|0.001547987658152495| 0.41153582463430627|0.001547987749586...|0.001547987713396...|0.001547987673344...|  0.1292497848687442|    0.001547987722954...|0.001547987649057...|  0.0811317603482602| 0.22588948422032734|0.001547987619397...| 0.6869923101917037| 0.7444042765941081|0.08393482322773417| 0.19939271255060728| 0.7753503709810387| 0.7437357402953926|  romantic|               1.0|\n",
            "| 12|giorgos papadopoulos|  apopse eida oneiro|        1950|  pop|till darling till...| 48|0.001349527698357...|0.001349527710717...|  0.4177722727138843|0.001349527769804...|0.001349527675244...|0.001349527706827...| 0.46343009486128023|0.001349527805997...|0.001349527691256...|0.001349527677136...|0.001349527712799...|    0.001349527797172...|0.029754565101290716|0.001349527684528...| 0.06880015162837107|0.001349527670906...| 0.2916711794649627| 0.6464887316360279| 0.9759035902646489|2.459514170040486E-4|  0.597073371805441| 0.3943754799949707|  romantic|               1.0|\n",
            "| 14|          perry como|round and round (...|        1950|  pop|convoy light dead...| 98|0.001052631582713...| 0.42068466605183297|0.001052631609859...| 0.07407828447166948|0.001052631579946518|0.001052631588461...|0.001052631597332...|0.001052631685616...|0.001052631649117...|0.001052631707373...|0.001052631614369...|     0.17217312598602819|0.001052631594390...|0.001052631636361...|  0.1282918261528421|0.001052631579916...|  0.689158453373768| 0.6855882880804041| 0.8985942756970641|                 0.0| 0.7681368507831822| 0.5495354809879948|  violence|               1.0|\n",
            "| 15|           freestyle|opm medley: when ...|        1950|  pop|piece mindin worl...|179|4.828585359289544...|4.828585391496296E-4|  0.3718167049375792| 0.04071196622112475|4.828585271789636...|4.828585260143325...|4.828585703156365E-4| 0.38470282035750364|4.828585383085951E-4|4.828585329210239...|4.828585460472616E-4|    0.044354670712664156|4.828585263456825E-4|4.828585627096699E-4|4.828585656360556E-4| 0.12314987700604764|0.36856926242824656|   0.63369484398636|0.43574240536386083|                 0.0| 0.2827699917559769|  0.486470448326314|world/life|               1.0|\n",
            "| 17|       johnny mathis|it's not for me t...|        1950|  pop|care moment hold ...| 21|0.002506265667248...|0.002506265839006983|   0.336056481879689|0.002506265685538...|0.002506265664416...|0.002506265687616...| 0.17686081100056078|0.002506265803470543|0.002506265741077501|0.002506265714418428|0.002506265792074993|     0.38688661883578657|0.002506265758227142|0.002506265687844309|  0.0626021023249228|0.002506265664234...|0.37939997833856826|  0.529420813783555| 0.9257027366493341|7.196356275303643E-5| 0.3734542456718879|0.19216696257180402|world/life|               1.0|\n",
            "| 20| stélios kazantzídis|klapse me mana kl...|        1950|  pop|lonely night surr...| 30|  0.0835372026172713|0.002024291674260193|0.002024291650049...| 0.24827279104188021|0.002024291513079...|0.002024291498504...|  0.4018011071559509| 0.16778329796230831|0.002024291563513...|0.002024291613657...|0.002024291560260...|    0.002024291717795...|0.002024291688942513|0.002024291513735481|0.002024291661684263|0.031599677583931174|0.49637171017004234| 0.6661795246519497| 0.9748995731923427|1.437246963562753E-5| 0.6218054410552348| 0.4003816735817975|  romantic|               1.0|\n",
            "| 23| stélios kazantzídis|   finito la mouzika|        1950|  pop|tear heart seat s...| 61|0.001119820838297...| 0.10254783417872616|0.001119820853684...|0.053943789301423566|0.001119820843386...|0.001119820834288861|0.001119820845310...| 0.09157194449160361|0.001119820917255...|0.001119820846354...| 0.10575159029552901|    0.001119820862863...| 0.00111982083067294|0.001119820888845...|   0.630507349802192|0.001119820828742...| 0.6620816635979638| 0.6431300156398225| 0.9839357268430994|1.751012145748988E-4| 0.7444352844187963|0.41339509301992206|   sadness|               1.0|\n",
            "| 28|           liva weel|drømmer man om de...|        1951|  pop|better sail midni...|113| 0.01708972078992839|   0.026486406786287|7.739938419628533E-4|7.739938930730819E-4|7.739938114794087E-4|7.739938162087643E-4|7.739938154689578E-4| 0.07966455727550444|  0.7205565145482401|  0.0809876481270162|7.739938663588145E-4|     0.06515323252524222|7.739938128065631E-4|7.739938111872138E-4|7.739938313656506E-4| 7.73993813273782E-4| 0.6252572295028702| 0.5331128374740404| 0.9728915390477302| 0.01700404858299595| 0.6918796372629842|0.34031973771353013|   obscene|0.9857142857142858|\n",
            "| 32|      the chordettes|       carolina moon|        1951|  pop|moon shin shin wa...| 38|0.001644736867323...|0.001644736859309...|0.001644736884293...| 0.39749045045118614|0.001644736880997...|0.001644736856928...|0.001644736866802197| 0.06620121160442552|0.001644736865661...| 0.09369901457013001|0.001644736896819...|      0.4179382701779092|0.001644736853678...|0.001644737014861...|0.001644736948966153|0.001644736842251...|0.26567746128019065| 0.6222598261672179| 0.9889558122046308|                 0.0|0.05873866446826051| 0.1110833491496431|night/time|0.9857142857142858|\n",
            "| 33|       frankie laine|      necessary evil|        1951|  pop|come motherfucker...|173|6.265664553557712E-4| 0.24435807592459777| 0.08356996555969803|6.265664626806047E-4|0.013375426631690305|0.022181143291013162|6.265664293906773E-4| 0.10912897095858594| 0.45898374120933244| 6.26566436615197E-4|6.265664572703912E-4|    6.265664549804881E-4|6.265664809273208E-4|6.265664832809306E-4|6.265664423323169E-4| 0.03258084237535422| 0.5223654283548144|  0.528728559341589| 0.8524094903709745|                 0.0|0.40849134377576257|0.15312670425743025|   obscene|0.9857142857142858|\n",
            "| 34|          ghantasala|     kanugona galano|        1951|  pop|work morning flig...| 73|7.855459608217173E-4|7.855460145639783E-4|   0.150690869353428|7.855460094298337E-4|7.855459556829547E-4|7.855460980037351E-4|7.855460467441368E-4|  0.0901142312278355|7.855459846770268E-4| 0.17331061822109362|7.855460018675903E-4|     0.08510624789690309|7.855461484164477E-4|7.855459879564928E-4|  0.4454687961567132| 0.04509713905993533|0.46929492039423815| 0.7456605902110094| 0.9216866683601088|  0.5819838056680161|  0.611500412201154| 0.6025901910049642|   sadness|0.9857142857142858|\n",
            "| 36|            les paul|         the carioca|        1951|  pop|see carioca foxtr...| 60|0.001253132846594...|0.001253132959384...| 0.08135973348824782|0.001253132854862...|0.001253132837275...|0.030950545110182432|  0.3845678800840667|0.001253132959681533|0.001253132953129...| 0.11192240474070576|0.001253132920854...|     0.27050651738742854|0.001253132839944...|0.001253132844478...|0.001253132859360...| 0.04928471086140505| 0.5505252897216506| 0.6824090454580416| 0.4959834297022387|  0.5040485829959515| 0.8495465787304204| 0.6426314815838092|  romantic|0.9857142857142858|\n",
            "| 37|            les paul|        chicken reel|        1951|  pop|hahaha alright ye...|199|3.485535227537947...|0.018417243999769038|  0.3918787086344464|  3.4855351158604E-4| 0.02573724458875646|3.485535069821147E-4|3.485535105948182...|3.485535257326107...| 3.48553524416369E-4|3.485535202593539...|3.485535201363461E-4|    3.485535261632693...|3.485535173607878...|  0.2946503844236732|0.034922425345002624| 0.02608421311449935| 0.6360879454131919| 0.6403353588185523|0.48393522483456314|  0.7914979757085021| 0.7454657873042043| 0.5215065775828034|world/life|0.9857142857142858|\n",
            "| 40|            les paul|          blue skies|        1951|  pop|blue sky smile bl...| 43|0.001385041557432...|0.001385041553937035|0.001385041696435...| 0.06550661481573684|0.001385041564562...|0.001385041554766...|0.001385041566589...|0.001385041650192...|0.001385041561659...|  0.6006329459604957|0.001385041581262732|     0.24915368937584695|0.001385041551246...|0.001385041617456...|0.001385041573338...| 0.06393112616405651| 0.6350048738221598| 0.6048765479578493| 0.9919678634215497|   0.847165991902834|0.46207749381698277| 0.2842619309031472|     music|0.9857142857142858|\n",
            "| 44|            les paul|           dark eyes|        1951|  pop|light bright dark...|182|3.580379591843399...|  0.3781187914066113| 0.03093421121810617|3.580379896536060...|0.025127184888346726|3.580379682560033E-4| 0.03253432436191869|0.019480574101471988| 0.09372454654808124|3.580379900042169...| 0.13555150383470232|     0.05895109008592597|3.580379785269537...| 0.08499433349111651| 0.06682182705274003|0.043335426063204265| 0.6025127260911947| 0.5772376483860215| 0.9929718804938561|  0.8744939271255062| 0.6094394064303379|0.29126915675444515|  violence|0.9857142857142858|\n",
            "| 53|         asha bhosle|       kotha mukunda|        1952|  pop|wander garden fen...| 48|0.002024291536932...|  0.4323963105509871|0.002024291621314...|0.002024291557085...|0.002024291510049883|0.002024291520086...|0.002024291518860039|  0.4635940269865534|0.002024291618156413|0.002024291691415...|0.002024291594780...|    0.002024291548014...| 0.03248903355171495|0.002024291670086632|0.002024291629230...| 0.04115625537039613|0.37939997833856826| 0.5420608671127861| 0.9849397439154056|  0.5728744939271255| 0.4332234130255565| 0.2882660599610318|  violence|0.9714285714285714|\n",
            "| 54|         asha bhosle|awaz deta hai sol...|        1952|  pop|easier bitch leav...|148|4.314063899894701E-4|0.031303771468331965|4.314064008904105...|  4.3140641125103E-4| 0.01690599066470645| 0.30960021975293467|0.005947658109787887|4.314064175253740...|0.055846990437296226| 0.07220889304049678|4.314064075383198E-4|    4.314064176535885E-4|4.314064729447575...|4.314064329234974...|4.314064185449645E-4|  0.4264571683737991| 0.4996209249431388| 0.6737430454067636| 0.9969879487830812|5.789473684210527E-4|  0.703215169002473|0.24021651126641788|  feelings|0.9714285714285714|\n",
            "+---+--------------------+--------------------+------------+-----+--------------------+---+--------------------+--------------------+--------------------+--------------------+--------------------+--------------------+--------------------+--------------------+--------------------+--------------------+--------------------+------------------------+--------------------+--------------------+--------------------+--------------------+-------------------+-------------------+-------------------+--------------------+-------------------+-------------------+----------+------------------+\n",
            "only showing top 20 rows\n",
            "\n"
          ]
        }
      ]
    },
    {
      "cell_type": "code",
      "source": [
        "from pyspark.sql.functions import col, count\n",
        "\n",
        "# You can use df.groupBy() and count() to get genre counts\n",
        "genre_counts = df.groupBy(\"genre\").agg(count(\"*\").alias(\"count\"))\n",
        "\n",
        "# Show the resulting DataFrame\n",
        "genre_counts.show()"
      ],
      "metadata": {
        "colab": {
          "base_uri": "https://localhost:8080/"
        },
        "id": "oBIju5yVCO-E",
        "outputId": "50fd2aa1-975d-4eca-ba2b-7cbb982f8920"
      },
      "execution_count": 8,
      "outputs": [
        {
          "output_type": "stream",
          "name": "stdout",
          "text": [
            "+-------+-----+\n",
            "|  genre|count|\n",
            "+-------+-----+\n",
            "|    pop| 7042|\n",
            "|  blues| 4604|\n",
            "|country| 5445|\n",
            "|   jazz| 3845|\n",
            "|hip hop|  904|\n",
            "|   rock| 4034|\n",
            "| reggae| 2498|\n",
            "+-------+-----+\n",
            "\n"
          ]
        }
      ]
    },
    {
      "cell_type": "code",
      "source": [
        "from pyspark.ml.feature import StringIndexer\n",
        "\n",
        "# Sample DataFrame with a \"category\" column\n",
        "data = [(0, \"pop\"),\n",
        "        (1, \"blues\"),\n",
        "        (2, \"country\"),\n",
        "        (3, \"jazz\"),\n",
        "        (4, \"hip hop\"),\n",
        "        (5, \"rock\"),\n",
        "        (6, \"reggae\"),]\n",
        "\n"
      ],
      "metadata": {
        "id": "tC_KPYNeC_3E"
      },
      "execution_count": 9,
      "outputs": []
    },
    {
      "cell_type": "code",
      "source": [
        "from pyspark.ml.feature import RegexTokenizer, StopWordsRemover, CountVectorizer,Word2Vec\n",
        "from pyspark.ml.classification import LogisticRegression\n",
        "from pyspark.sql.functions import concat, col\n",
        "\n",
        "# regular expression tokenizer\n",
        "# Concatenate the 'artist_name', 'track_name', and 'lyrics' columns into a new column 'new_ly'\n",
        "df = df[\"artist_name\",\"track_name\",\"release_date\",\"genre\",\"lyrics\"]\n",
        "# df = df.withColumn(\"new_ly\", concat(col(\"artist_name\"),  col(\"track_name\"), col(\"lyrics\")))\n",
        "\n",
        "\n",
        "regexTokenizer = RegexTokenizer(inputCol=\"lyrics\", outputCol=\"words\", pattern=\"\\\\W\")\n",
        "# to remove stop words like is, the, in, etc.\n",
        "stopwords_remover = StopWordsRemover(inputCol=\"words\", outputCol=\"stopwords_remove\")\n",
        "# bag of words count\n",
        "word2Vec = Word2Vec(vectorSize=100, minCount=0, inputCol=\"stopwords_remove\", outputCol=\"features\")"
      ],
      "metadata": {
        "id": "DdQ2wVnSEc8U"
      },
      "execution_count": 14,
      "outputs": []
    },
    {
      "cell_type": "code",
      "source": [
        "from pyspark.ml import Pipeline\n",
        "from pyspark.ml.feature import OneHotEncoder, StringIndexer, VectorAssembler\n",
        "\n",
        "label_stringIdx = StringIndexer(inputCol = \"genre\", outputCol = \"label\")\n",
        "pipeline = Pipeline(stages=[regexTokenizer, stopwords_remover, word2Vec, label_stringIdx])\n",
        "# Fit the pipeline to training documents.\n",
        "\n",
        "\n",
        "\n",
        "pipelineFit = pipeline.fit(df)\n",
        "dataset = pipelineFit.transform(df)\n",
        "dataset.show(5)"
      ],
      "metadata": {
        "colab": {
          "base_uri": "https://localhost:8080/"
        },
        "id": "UIZ0u8QYEyBE",
        "outputId": "501a7c34-8cb8-4002-b83f-55df7e8a6994"
      },
      "execution_count": 15,
      "outputs": [
        {
          "output_type": "stream",
          "name": "stdout",
          "text": [
            "+--------------------+--------------------+------------+-----+--------------------+--------------------+--------------------+--------------------+-----+\n",
            "|         artist_name|          track_name|release_date|genre|              lyrics|               words|    stopwords_remove|            features|label|\n",
            "+--------------------+--------------------+------------+-----+--------------------+--------------------+--------------------+--------------------+-----+\n",
            "|              mukesh|mohabbat bhi jhoothi|        1950|  pop|hold time feel br...|[hold, time, feel...|[hold, time, feel...|[-0.0602561402036...|  0.0|\n",
            "|       frankie laine|           i believe|        1950|  pop|believe drop rain...|[believe, drop, r...|[believe, drop, r...|[-0.0593923533668...|  0.0|\n",
            "|         johnnie ray|                 cry|        1950|  pop|sweetheart send l...|[sweetheart, send...|[sweetheart, send...|[-0.0110573951775...|  0.0|\n",
            "|         pérez prado|            patricia|        1950|  pop|kiss lips want st...|[kiss, lips, want...|[kiss, lips, want...|[0.01750143914897...|  0.0|\n",
            "|giorgos papadopoulos|  apopse eida oneiro|        1950|  pop|till darling till...|[till, darling, t...|[till, darling, t...|[-0.0683541862914...|  0.0|\n",
            "+--------------------+--------------------+------------+-----+--------------------+--------------------+--------------------+--------------------+-----+\n",
            "only showing top 5 rows\n",
            "\n"
          ]
        }
      ]
    },
    {
      "cell_type": "code",
      "source": [
        "pipelineFit.save(\"my_pipeline\")"
      ],
      "metadata": {
        "id": "gTobXwkmqyjX"
      },
      "execution_count": 40,
      "outputs": []
    },
    {
      "cell_type": "code",
      "source": [
        "!zip -r /content/pipeline.zip /content/my_pipeline"
      ],
      "metadata": {
        "colab": {
          "base_uri": "https://localhost:8080/"
        },
        "id": "HLiRgCTzq4B0",
        "outputId": "c1f7b2c0-769a-486a-8cb3-c21cf2b23bd7"
      },
      "execution_count": 41,
      "outputs": [
        {
          "output_type": "stream",
          "name": "stdout",
          "text": [
            "  adding: content/my_pipeline/ (stored 0%)\n",
            "  adding: content/my_pipeline/metadata/ (stored 0%)\n",
            "  adding: content/my_pipeline/metadata/_SUCCESS (stored 0%)\n",
            "  adding: content/my_pipeline/metadata/.part-00000.crc (stored 0%)\n",
            "  adding: content/my_pipeline/metadata/._SUCCESS.crc (stored 0%)\n",
            "  adding: content/my_pipeline/metadata/part-00000 (deflated 24%)\n",
            "  adding: content/my_pipeline/stages/ (stored 0%)\n",
            "  adding: content/my_pipeline/stages/3_StringIndexer_5395dd103fc5/ (stored 0%)\n",
            "  adding: content/my_pipeline/stages/3_StringIndexer_5395dd103fc5/data/ (stored 0%)\n",
            "  adding: content/my_pipeline/stages/3_StringIndexer_5395dd103fc5/data/_SUCCESS (stored 0%)\n",
            "  adding: content/my_pipeline/stages/3_StringIndexer_5395dd103fc5/data/part-00000-c1c1e68c-a69a-452e-8951-a174782c9c34-c000.snappy.parquet (deflated 33%)\n",
            "  adding: content/my_pipeline/stages/3_StringIndexer_5395dd103fc5/data/._SUCCESS.crc (stored 0%)\n",
            "  adding: content/my_pipeline/stages/3_StringIndexer_5395dd103fc5/data/.part-00000-c1c1e68c-a69a-452e-8951-a174782c9c34-c000.snappy.parquet.crc (stored 0%)\n",
            "  adding: content/my_pipeline/stages/3_StringIndexer_5395dd103fc5/metadata/ (stored 0%)\n",
            "  adding: content/my_pipeline/stages/3_StringIndexer_5395dd103fc5/metadata/_SUCCESS (stored 0%)\n",
            "  adding: content/my_pipeline/stages/3_StringIndexer_5395dd103fc5/metadata/.part-00000.crc (stored 0%)\n",
            "  adding: content/my_pipeline/stages/3_StringIndexer_5395dd103fc5/metadata/._SUCCESS.crc (stored 0%)\n",
            "  adding: content/my_pipeline/stages/3_StringIndexer_5395dd103fc5/metadata/part-00000 (deflated 35%)\n",
            "  adding: content/my_pipeline/stages/2_Word2Vec_d357ab0f45b2/ (stored 0%)\n",
            "  adding: content/my_pipeline/stages/2_Word2Vec_d357ab0f45b2/data/ (stored 0%)\n",
            "  adding: content/my_pipeline/stages/2_Word2Vec_d357ab0f45b2/data/_SUCCESS (stored 0%)\n",
            "  adding: content/my_pipeline/stages/2_Word2Vec_d357ab0f45b2/data/part-00000-2531cdda-1687-45b1-8280-369f55910d34-c000.snappy.parquet (deflated 6%)\n",
            "  adding: content/my_pipeline/stages/2_Word2Vec_d357ab0f45b2/data/.part-00000-2531cdda-1687-45b1-8280-369f55910d34-c000.snappy.parquet.crc (deflated 0%)\n",
            "  adding: content/my_pipeline/stages/2_Word2Vec_d357ab0f45b2/data/._SUCCESS.crc (stored 0%)\n",
            "  adding: content/my_pipeline/stages/2_Word2Vec_d357ab0f45b2/metadata/ (stored 0%)\n",
            "  adding: content/my_pipeline/stages/2_Word2Vec_d357ab0f45b2/metadata/_SUCCESS (stored 0%)\n",
            "  adding: content/my_pipeline/stages/2_Word2Vec_d357ab0f45b2/metadata/.part-00000.crc (stored 0%)\n",
            "  adding: content/my_pipeline/stages/2_Word2Vec_d357ab0f45b2/metadata/._SUCCESS.crc (stored 0%)\n",
            "  adding: content/my_pipeline/stages/2_Word2Vec_d357ab0f45b2/metadata/part-00000 (deflated 38%)\n",
            "  adding: content/my_pipeline/stages/1_StopWordsRemover_bc2af0a619ce/ (stored 0%)\n",
            "  adding: content/my_pipeline/stages/1_StopWordsRemover_bc2af0a619ce/metadata/ (stored 0%)\n",
            "  adding: content/my_pipeline/stages/1_StopWordsRemover_bc2af0a619ce/metadata/_SUCCESS (stored 0%)\n",
            "  adding: content/my_pipeline/stages/1_StopWordsRemover_bc2af0a619ce/metadata/.part-00000.crc (stored 0%)\n",
            "  adding: content/my_pipeline/stages/1_StopWordsRemover_bc2af0a619ce/metadata/._SUCCESS.crc (stored 0%)\n",
            "  adding: content/my_pipeline/stages/1_StopWordsRemover_bc2af0a619ce/metadata/part-00000 (deflated 58%)\n",
            "  adding: content/my_pipeline/stages/0_RegexTokenizer_8ff5c90f0f49/ (stored 0%)\n",
            "  adding: content/my_pipeline/stages/0_RegexTokenizer_8ff5c90f0f49/metadata/ (stored 0%)\n",
            "  adding: content/my_pipeline/stages/0_RegexTokenizer_8ff5c90f0f49/metadata/_SUCCESS (stored 0%)\n",
            "  adding: content/my_pipeline/stages/0_RegexTokenizer_8ff5c90f0f49/metadata/.part-00000.crc (stored 0%)\n",
            "  adding: content/my_pipeline/stages/0_RegexTokenizer_8ff5c90f0f49/metadata/._SUCCESS.crc (stored 0%)\n",
            "  adding: content/my_pipeline/stages/0_RegexTokenizer_8ff5c90f0f49/metadata/part-00000 (deflated 37%)\n"
          ]
        }
      ]
    },
    {
      "cell_type": "code",
      "source": [
        "# set seed for reproducibility\n",
        "(trainingData, testData) = dataset.randomSplit([0.8, 0.2], seed = 100)\n",
        "print(\"Training Dataset Count: \" + str(trainingData.count()))\n",
        "print(\"Test Dataset Count: \" + str(testData.count()))"
      ],
      "metadata": {
        "colab": {
          "base_uri": "https://localhost:8080/"
        },
        "id": "oItHlMNlE_DP",
        "outputId": "80b911ff-1368-4a1a-905f-81f1b491d938"
      },
      "execution_count": 16,
      "outputs": [
        {
          "output_type": "stream",
          "name": "stdout",
          "text": [
            "Training Dataset Count: 22716\n",
            "Test Dataset Count: 5656\n"
          ]
        }
      ]
    },
    {
      "cell_type": "code",
      "source": [
        "trainingData.show(10)"
      ],
      "metadata": {
        "colab": {
          "base_uri": "https://localhost:8080/"
        },
        "id": "qPBfxbXVSzN9",
        "outputId": "13de36aa-7929-4c71-8f9f-fffb20c11e92"
      },
      "execution_count": 17,
      "outputs": [
        {
          "output_type": "stream",
          "name": "stdout",
          "text": [
            "+--------------------+--------------------+------------+-----+--------------------+--------------------+--------------------+--------------------+-----+\n",
            "|         artist_name|          track_name|release_date|genre|              lyrics|               words|    stopwords_remove|            features|label|\n",
            "+--------------------+--------------------+------------+-----+--------------------+--------------------+--------------------+--------------------+-----+\n",
            "|\"\"\"weird al\"\" yan...|(this song's just...|        1988|  pop|song word long so...|[song, word, long...|[song, word, long...|[-0.1634306071191...|  0.0|\n",
            "|\"\"\"weird al\"\" yan...|   addicted to spuds|        1986|  pop|potato skin potat...|[potato, skin, po...|[potato, skin, po...|[0.01976571031627...|  0.0|\n",
            "|\"\"\"weird al\"\" yan...|christmas at grou...|        1986|  pop|christmas grind z...|[christmas, grind...|[christmas, grind...|[0.05538081125424...|  0.0|\n",
            "|\"\"\"weird al\"\" yan...|       good old days|        1988|  pop|time think younge...|[time, think, you...|[time, think, you...|[-0.0524463393308...|  0.0|\n",
            "|\"\"\"weird al\"\" yan...|i'll be mellow wh...|        1983|  pop|care karma care s...|[care, karma, car...|[care, karma, car...|[-0.0767935695116...|  0.0|\n",
            "|\"\"\"weird al\"\" yan...|       king of suede|        1984|  pop|sale gabardine su...|[sale, gabardine,...|[sale, gabardine,...|[-0.0091954142744...|  0.0|\n",
            "|\"\"\"weird al\"\" yan...|living with a hernia|        1986|  pop|help grunt groan ...|[help, grunt, gro...|[help, grunt, gro...|[-0.0783098930513...|  0.0|\n",
            "|\"\"\"weird al\"\" yan...|mr. frump in the ...|        1983|  pop|visit frump hospi...|[visit, frump, ho...|[visit, frump, ho...|[-0.0472717116869...|  0.0|\n",
            "|\"\"\"weird al\"\" yan...|nature trail to hell|        1984|  pop|come christmas th...|[come, christmas,...|[come, christmas,...|[-0.0195749148281...|  0.0|\n",
            "|\"\"\"weird al\"\" yan...|slime creatures f...|        1985|  pop|things fly saucer...|[things, fly, sau...|[things, fly, sau...|[0.07533500611060...|  0.0|\n",
            "+--------------------+--------------------+------------+-----+--------------------+--------------------+--------------------+--------------------+-----+\n",
            "only showing top 10 rows\n",
            "\n"
          ]
        }
      ]
    },
    {
      "cell_type": "code",
      "source": [
        "lr = LogisticRegression(featuresCol='features',\n",
        "                        labelCol='label',\n",
        "                        family=\"multinomial\")\n",
        "lrModel = lr.fit(trainingData)\n"
      ],
      "metadata": {
        "id": "W-a__KcDFMfk"
      },
      "execution_count": 18,
      "outputs": []
    },
    {
      "cell_type": "code",
      "source": [
        "lrModel.save('my_model')"
      ],
      "metadata": {
        "id": "w7WXvPEcjHYp"
      },
      "execution_count": 19,
      "outputs": []
    },
    {
      "cell_type": "code",
      "source": [
        "!zip -r /content/model.zip /content/my_model"
      ],
      "metadata": {
        "colab": {
          "base_uri": "https://localhost:8080/"
        },
        "id": "s00E6KnGk7D8",
        "outputId": "6252684e-e03d-4d8e-b396-a3d39a13b787"
      },
      "execution_count": 20,
      "outputs": [
        {
          "output_type": "stream",
          "name": "stdout",
          "text": [
            "  adding: content/my_model/ (stored 0%)\n",
            "  adding: content/my_model/data/ (stored 0%)\n",
            "  adding: content/my_model/data/_SUCCESS (stored 0%)\n",
            "  adding: content/my_model/data/.part-00000-f7588e9b-7de1-4341-a3a9-bec47551a653-c000.snappy.parquet.crc (stored 0%)\n",
            "  adding: content/my_model/data/part-00000-f7588e9b-7de1-4341-a3a9-bec47551a653-c000.snappy.parquet (deflated 31%)\n",
            "  adding: content/my_model/data/._SUCCESS.crc (stored 0%)\n",
            "  adding: content/my_model/metadata/ (stored 0%)\n",
            "  adding: content/my_model/metadata/_SUCCESS (stored 0%)\n",
            "  adding: content/my_model/metadata/.part-00000.crc (stored 0%)\n",
            "  adding: content/my_model/metadata/._SUCCESS.crc (stored 0%)\n",
            "  adding: content/my_model/metadata/part-00000 (deflated 45%)\n"
          ]
        }
      ]
    },
    {
      "cell_type": "code",
      "source": [
        "lyricss = \"burn letter write break promise speak swallow pride till think choke give bout give bout want somebody guess heart come true fake give bout give bout cry milk spill dance waltz stand time precious kill give bout give bout want somebody guess heart come true fake give bout give bout give bout \"\n",
        "\n",
        "new_df = spark.createDataFrame([(lyricss,)], [\"lyrics\"])\n",
        "p = pipelineFit.transform(new_df)\n"
      ],
      "metadata": {
        "id": "s5dAJjIbnZc5"
      },
      "execution_count": 35,
      "outputs": []
    },
    {
      "cell_type": "code",
      "source": [
        "p.show()"
      ],
      "metadata": {
        "colab": {
          "base_uri": "https://localhost:8080/"
        },
        "id": "-56_FU5yn4BV",
        "outputId": "15635ca3-3371-4d8e-88a3-13fe79a69adc"
      },
      "execution_count": 36,
      "outputs": [
        {
          "output_type": "stream",
          "name": "stdout",
          "text": [
            "+--------------------+--------------------+--------------------+--------------------+\n",
            "|              lyrics|               words|    stopwords_remove|            features|\n",
            "+--------------------+--------------------+--------------------+--------------------+\n",
            "|burn letter write...|[burn, letter, wr...|[burn, letter, wr...|[-0.0723639201415...|\n",
            "+--------------------+--------------------+--------------------+--------------------+\n",
            "\n"
          ]
        }
      ]
    },
    {
      "cell_type": "code",
      "source": [
        "pred = lrModel.transform(p)"
      ],
      "metadata": {
        "id": "x6PkUG8ZoLU1"
      },
      "execution_count": 37,
      "outputs": []
    },
    {
      "cell_type": "code",
      "source": [
        "pred.show()"
      ],
      "metadata": {
        "colab": {
          "base_uri": "https://localhost:8080/"
        },
        "id": "K7JOquXdoOk2",
        "outputId": "755f0021-ce79-4c73-c267-a349724ded87"
      },
      "execution_count": 39,
      "outputs": [
        {
          "output_type": "stream",
          "name": "stdout",
          "text": [
            "+--------------------+--------------------+--------------------+--------------------+--------------------+--------------------+----------+\n",
            "|              lyrics|               words|    stopwords_remove|            features|       rawPrediction|         probability|prediction|\n",
            "+--------------------+--------------------+--------------------+--------------------+--------------------+--------------------+----------+\n",
            "|burn letter write...|[burn, letter, wr...|[burn, letter, wr...|[-0.0723639201415...|[1.13033663245376...|[0.29912932112376...|       0.0|\n",
            "+--------------------+--------------------+--------------------+--------------------+--------------------+--------------------+----------+\n",
            "\n"
          ]
        }
      ]
    },
    {
      "cell_type": "code",
      "source": [
        "predictions = lrModel.transform(testData)"
      ],
      "metadata": {
        "id": "3K0AfDjsFuRy"
      },
      "execution_count": 22,
      "outputs": []
    },
    {
      "cell_type": "code",
      "source": [
        "predictions.filter(predictions['prediction'] == 1) \\\n",
        "    .select(\"lyrics\",\"probability\",\"label\",\"prediction\") \\\n",
        "    .orderBy(\"probability\", ascending=False) \\\n",
        "    .show(n = 10, truncate = 30)"
      ],
      "metadata": {
        "colab": {
          "base_uri": "https://localhost:8080/"
        },
        "id": "qfRjN_dBUp0m",
        "outputId": "6cb71446-4e02-46f5-e7a4-751eae735ab8"
      },
      "execution_count": 23,
      "outputs": [
        {
          "output_type": "stream",
          "name": "stdout",
          "text": [
            "+------------------------------+------------------------------+-----+----------+\n",
            "|                        lyrics|                   probability|label|prediction|\n",
            "+------------------------------+------------------------------+-----+----------+\n",
            "|hear wind sing song know le...|[0.3538689472774823,0.36687...|  0.0|       1.0|\n",
            "|young foolish wrong young f...|[0.34917917976582763,0.3644...|  4.0|       1.0|\n",
            "|goddamn room hazy afternoon...|[0.33957009704410107,0.3720...|  3.0|       1.0|\n",
            "|walk street start time meet...|[0.33917933481283435,0.4042...|  2.0|       1.0|\n",
            "|darling know silence prove ...|[0.3329452299142029,0.34649...|  1.0|       1.0|\n",
            "|sista manchesta come carife...|[0.3325041468776568,0.35876...|  5.0|       1.0|\n",
            "|everybody wanna livin limel...|[0.3303739203310126,0.34402...|  1.0|       1.0|\n",
            "|wonder long heart break wat...|[0.32953493872616385,0.3455...|  0.0|       1.0|\n",
            "|remember remember wanna kno...|[0.3271283867022507,0.37962...|  0.0|       1.0|\n",
            "|smile little harder laugh l...|[0.32674849553640734,0.3852...|  0.0|       1.0|\n",
            "+------------------------------+------------------------------+-----+----------+\n",
            "only showing top 10 rows\n",
            "\n"
          ]
        }
      ]
    },
    {
      "cell_type": "code",
      "source": [
        "from pyspark.ml.evaluation import MulticlassClassificationEvaluator\n",
        "evaluator = MulticlassClassificationEvaluator(predictionCol=\"prediction\")\n",
        "evaluator.evaluate(predictions)"
      ],
      "metadata": {
        "colab": {
          "base_uri": "https://localhost:8080/"
        },
        "id": "Z4ffLk2xFVLE",
        "outputId": "502555b4-237f-4e6f-9b6c-1a8dfe3dec84"
      },
      "execution_count": 24,
      "outputs": [
        {
          "output_type": "execute_result",
          "data": {
            "text/plain": [
              "0.34412308238499506"
            ]
          },
          "metadata": {},
          "execution_count": 24
        }
      ]
    },
    {
      "cell_type": "code",
      "source": [
        "from pyspark.ml.evaluation import MulticlassClassificationEvaluator\n",
        "from pyspark.mllib.evaluation import MulticlassMetrics\n",
        "\n",
        "# Assuming you have a multiclass classification model and predictions\n",
        "# 'predictions' is a DataFrame with 'label' and 'prediction' columns\n",
        "\n",
        "# Initialize a MulticlassClassificationEvaluator\n",
        "evaluator = MulticlassClassificationEvaluator(labelCol=\"label\", predictionCol=\"prediction\")\n",
        "\n",
        "# Evaluate the model using the evaluator\n",
        "accuracy = evaluator.evaluate(predictions)  # You can use other metrics such as \"f1\", \"weightedPrecision\", \"weightedRecall\", etc.\n",
        "print(f\"Accuracy: {accuracy:.2%}\")\n",
        "\n",
        "# Create a RDD of (prediction, label) pairs for MulticlassMetrics\n",
        "predictionAndLabels = predictions.select(\"prediction\", \"label\").rdd\n",
        "\n",
        "# Initialize MulticlassMetrics\n",
        "metrics = MulticlassMetrics(predictionAndLabels)\n",
        "\n",
        "# Get the confusion matrix\n",
        "confusion_matrix = metrics.confusionMatrix().toArray()\n",
        "print(\"Confusion Matrix:\")\n",
        "print(confusion_matrix)\n"
      ],
      "metadata": {
        "colab": {
          "base_uri": "https://localhost:8080/"
        },
        "id": "9G6FlJ_XF1oM",
        "outputId": "6df83cfd-d20b-40d1-87aa-76303401ca68"
      },
      "execution_count": 25,
      "outputs": [
        {
          "output_type": "stream",
          "name": "stdout",
          "text": [
            "Accuracy: 34.41%\n"
          ]
        },
        {
          "output_type": "stream",
          "name": "stderr",
          "text": [
            "/usr/local/lib/python3.10/dist-packages/pyspark/sql/context.py:158: FutureWarning: Deprecated in 3.0.0. Use SparkSession.builder.getOrCreate() instead.\n",
            "  warnings.warn(\n"
          ]
        },
        {
          "output_type": "stream",
          "name": "stdout",
          "text": [
            "Confusion Matrix:\n",
            "[[862. 240.  80. 100.  65.  40.  40.]\n",
            " [357. 524.  94.  36.  37.  14.   4.]\n",
            " [351. 226. 171.  70.  56.  32.   8.]\n",
            " [335. 133.  69. 201.  36.  25.   7.]\n",
            " [351. 130.  57.  65. 137.  33.  15.]\n",
            " [209.  61.  37.  36.  20. 114.   7.]\n",
            " [ 93.   3.   6.   7.   3.   6.  53.]]\n"
          ]
        }
      ]
    },
    {
      "cell_type": "code",
      "source": [
        "labels = [\"pop\", \"blues\",\"country\",\"jazz\",\"hip hop\",\"rock\",\"reggae\"]\n",
        "\n",
        "# important: need to cast to float type, and order by prediction, else it won't work\n",
        "preds_and_labels = predictions.select(['prediction','label']) \\\n",
        "                              .withColumn('label', col('label') \\\n",
        "                              .cast(FloatType())) \\\n",
        "                              .orderBy('prediction')\n",
        "# generate metrics\n",
        "metrics = MulticlassMetrics(preds_and_labels.rdd.map(tuple))\n",
        "\n",
        "# figure object\n",
        "_ = plt.figure(figsize=(7, 7))\n",
        "\n",
        "# plot confusion matrix\n",
        "sns.heatmap(metrics.confusionMatrix().toArray(),\n",
        "            cmap='viridis',\n",
        "            annot=True,fmt='0',\n",
        "            cbar=False,\n",
        "            xticklabels=labels,\n",
        "            yticklabels=labels)\n",
        "plt.show()"
      ],
      "metadata": {
        "colab": {
          "base_uri": "https://localhost:8080/",
          "height": 599
        },
        "id": "I6P_0uGLln3y",
        "outputId": "cd58d852-05a6-4a43-8b37-26bf3e9f8de3"
      },
      "execution_count": 26,
      "outputs": [
        {
          "output_type": "display_data",
          "data": {
            "text/plain": [
              "<Figure size 700x700 with 1 Axes>"
            ],
            "image/png": "[encoded data removed]"
          },
          "metadata": {}
        }
      ]
    },
    {
      "cell_type": "code",
      "source": [
        "predictions.show()"
      ],
      "metadata": {
        "colab": {
          "base_uri": "https://localhost:8080/"
        },
        "id": "Qr3hBzrueMjY",
        "outputId": "eca61cfe-dc52-4782-a1b6-f7b77b4a6720"
      },
      "execution_count": 20,
      "outputs": [
        {
          "output_type": "stream",
          "name": "stdout",
          "text": [
            "+---+-------------------+--------------------+------------+-----+--------------------+---+--------------------+--------------------+--------------------+--------------------+--------------------+--------------------+--------------------+--------------------+--------------------+--------------------+--------------------+------------------------+--------------------+--------------------+--------------------+--------------------+-------------------+-------------------+-------------------+--------------------+-------------------+-------------------+----------+------------------+--------------------+--------------------+--------------------+--------------------+-----+--------------------+--------------------+----------+\n",
            "|_c0|        artist_name|          track_name|release_date|genre|              lyrics|len|              dating|            violence|          world/life|          night/time|  shake the audience|       family/gospel|            romantic|       communication|             obscene|               music|     movement/places|light/visual perceptions|    family/spiritual|          like/girls|             sadness|            feelings|       danceability|           loudness|       acousticness|    instrumentalness|            valence|             energy|     topic|               age|              new_ly|               words|    stopwords_remove|            features|label|       rawPrediction|         probability|prediction|\n",
            "+---+-------------------+--------------------+------------+-----+--------------------+---+--------------------+--------------------+--------------------+--------------------+--------------------+--------------------+--------------------+--------------------+--------------------+--------------------+--------------------+------------------------+--------------------+--------------------+--------------------+--------------------+-------------------+-------------------+-------------------+--------------------+-------------------+-------------------+----------+------------------+--------------------+--------------------+--------------------+--------------------+-----+--------------------+--------------------+----------+\n",
            "| 10|        pérez prado|            patricia|        1950|  pop|kiss lips want st...| 54| 0.04824912378369902|0.001547987647649...|0.001547987736006...|0.001547987822572...|0.021500355476212204|0.001547987658152495| 0.41153582463430627|0.001547987749586...|0.001547987713396...|0.001547987673344...|  0.1292497848687442|    0.001547987722954...|0.001547987649057...|  0.0811317603482602| 0.22588948422032734|0.001547987619397...| 0.6869923101917037| 0.7444042765941081|0.08393482322773417| 0.19939271255060728| 0.7753503709810387| 0.7437357402953926|  romantic|               1.0|pérez pradopatric...|[p, rez, pradopat...|[p, rez, pradopat...|[0.04715414545249...|  0.0|[1.29421055460244...|[0.32981979432855...|       0.0|\n",
            "| 28|          liva weel|drømmer man om de...|        1951|  pop|better sail midni...|113| 0.01708972078992839|   0.026486406786287|7.739938419628533E-4|7.739938930730819E-4|7.739938114794087E-4|7.739938162087643E-4|7.739938154689578E-4| 0.07966455727550444|  0.7205565145482401|  0.0809876481270162|7.739938663588145E-4|     0.06515323252524222|7.739938128065631E-4|7.739938111872138E-4|7.739938313656506E-4| 7.73993813273782E-4| 0.6252572295028702| 0.5331128374740404| 0.9728915390477302| 0.01700404858299595| 0.6918796372629842|0.34031973771353013|   obscene|0.9857142857142858|liva weeldrømmer ...|[liva, weeldr, mm...|[liva, weeldr, mm...|[-0.0752787076575...|  0.0|[1.11620417164492...|[0.33259358225132...|       0.0|\n",
            "| 36|           les paul|         the carioca|        1951|  pop|see carioca foxtr...| 60|0.001253132846594...|0.001253132959384...| 0.08135973348824782|0.001253132854862...|0.001253132837275...|0.030950545110182432|  0.3845678800840667|0.001253132959681533|0.001253132953129...| 0.11192240474070576|0.001253132920854...|     0.27050651738742854|0.001253132839944...|0.001253132844478...|0.001253132859360...| 0.04928471086140505| 0.5505252897216506| 0.6824090454580416| 0.4959834297022387|  0.5040485829959515| 0.8495465787304204| 0.6426314815838092|  romantic|0.9857142857142858|les paulthe cario...|[les, paulthe, ca...|[les, paulthe, ca...|[0.01660668078458...|  0.0|[1.75018573846309...|[0.31345354837334...|       4.0|\n",
            "| 56|      mohammed rafi|jahan men log sac...|        1952|  pop|park bag pack kin...| 84|6.925208125731842E-4|  0.3928207515486527|6.925208282998196E-4|6.925207840428316E-4| 0.04383199398424633| 6.92520807989748E-4| 0.07065042299774629|6.925208068962276E-4|6.925207868881788E-4|  6.9252078862852E-4|6.925208086514925E-4|     0.03329519453065266|6.925207839415618E-4|6.925208131806779E-4| 0.43535072252811985|6.925208180369634E-4| 0.5407776454023612| 0.6615132169320308| 0.9869477780600182|                 0.0|  0.598103874690849|0.25222889844007135|   sadness|0.9714285714285714|mohammed rafijaha...|[mohammed, rafija...|[mohammed, rafija...|[0.04099514178879...|  0.0|[1.21277129175224...|[0.29124585953862...|       0.0|\n",
            "| 65|    lata mangeshkar|paas nahin aaiye ...|        1952|  pop|letter straight h...| 18|0.002923976618726...|0.002923976775679...|0.002923976628910...| 0.31965688534478254|0.002923976613563...|0.002923976608189487| 0.17635420464092685|  0.0029239766815739|0.002923976864188778| 0.26038375354278354|0.002923976717150673|    0.002923976642066321|0.002923976630411...|0.002923976622527...| 0.19974550662228466|0.002923976608563049| 0.4487165601646269| 0.6552316488475245| 0.7660640221526328|                 0.0| 0.8588211046990931| 0.5415272228722259|night/time|0.9714285714285714|lata mangeshkarpa...|[lata, mangeshkar...|[lata, mangeshkar...|[-0.0125558758882...|  0.0|[1.13447082362711...|[0.26569444852001...|       1.0|\n",
            "| 73|    lata mangeshkar|maagata maagata j...|        1953|  pop|help weakness hea...| 52|0.001949317894587...| 0.33902311670553104|0.001949317811215...| 0.12078950208288637|0.001949317746623...|0.001949317973260...|0.001949317759193...| 0.17357101089110016|0.001949317787858146|0.001949317927857...|0.001949317845194...|    0.001949317788575128|0.001949317780997...|0.001949317743766...|  0.2977878008958245|0.001949317751930...| 0.3848153362937291| 0.5545727251749865| 0.9819276926984867|   0.694331983805668| 0.4023083264633141| 0.2842619309031472|  violence|0.9571428571428572|lata mangeshkarma...|[lata, mangeshkar...|[lata, mangeshkar...|[-0.0245735351989...|  0.0|[0.58425649344955...|[0.19164071892143...|       2.0|\n",
            "| 84|         ghantasala|       thunintha pin|        1953|  pop|rebel runner sign...| 87|8.771929915659914E-4|8.771930635766536E-4|  0.4213088077671624| 0.05773234860980831|8.771929880687945E-4|8.771929873025952E-4| 0.01933393427166747| 0.18132392850136214|8.771930290968345E-4|  0.0345828154338273|8.771930609518322E-4|    0.024780211413219632|  0.1379589019267674|8.771930399437868E-4|8.771930570810114E-4| 8.77192985663736E-4| 0.3404094010614102| 0.6407455836730507|  0.881525985467857|0.019635627530364373| 0.6609645507007419| 0.4754590934171316|world/life|0.9571428571428572|ghantasalathunint...|[ghantasalathunin...|[ghantasalathunin...|[-0.0632432731257...|  0.0|[0.72848521154666...|[0.22619500649936...|       0.0|\n",
            "| 86|           les paul|i'm sitting on to...|        1953|  pop|sit world roll ro...| 31|0.001879699250033316|0.001879699282427242| 0.14856086843833338| 0.04650309343777676|0.001879699251104...|0.001879699299105...|0.001879699248120...|0.001879699279251...| 0.13618414190947636|  0.4586241172478544|0.001879699346676842|     0.00187969931500512|0.001879699287156683|0.001879699416285...|0.040905720046949645|0.001879699250854...| 0.7400628181522799| 0.6384893469733097| 0.5672686418359858|0.037145748987854256| 0.7609233305853257|  0.550536513252466|     music|0.9571428571428572|les pauli'm sitti...|[les, pauli, m, s...|[les, pauli, m, s...|[0.03982808139537...|  0.0|[1.12763541840716...|[0.27357656080275...|       0.0|\n",
            "| 99|t. m. soundararajan|      ethanai periya|        1953|  pop|watch world surro...| 74|0.001253132886281409| 0.06619220578867673| 0.33570847832039524|0.001253132895668...|0.027847336503557675|0.001253132868500...| 0.05926597314473943|0.001253132945891...|0.001253132930012...|0.001253132862964...|  0.3820738983183802|    0.001253132910629...|0.055238909857472526|0.058635603398328136|0.001253132980309...|0.001253132842263...| 0.4497996317556592| 0.7630182293669717| 0.9317268390831718|0.001386639676113...| 0.7887469084913438| 0.5295148356985724|world/life|0.9571428571428572|t. m. soundararaj...|[t, m, soundarara...|[m, soundararajan...|[-0.0325205408905...|  0.0|[0.94264116692369...|[0.24918983204699...|       1.0|\n",
            "|100|      talat mahmood|ansoo to nahin ha...|        1953|  pop|yeah dance ceilin...|104|  0.2655701149239978|5.370569739614044E-4|5.370569392561422E-4| 0.04224882789215667| 0.04893438541910778|5.370569346555305E-4|5.370569824280323E-4|5.370569585759133E-4| 0.41440000946368805|5.370569445535043E-4| 0.09468332892042908|    0.033427377554011574|5.370569478416832E-4|5.370569349899273E-4|5.370569590469107E-4|5.370569660692904E-4| 0.3090003249214774|  0.460067174319924| 0.9929718804938561|   0.868421052631579|0.44352844187963725|0.16814218822449709|   obscene|0.9571428571428572|talat mahmoodanso...|[talat, mahmoodan...|[talat, mahmoodan...|[0.10012466449999...|  0.0|[1.40729038428411...|[0.38064357391900...|       0.0|\n",
            "|102|    lata mangeshkar|chandan ka palna ...|        1954|  pop|want know remembe...| 19|0.003508771986669528|0.003508771952686...|  0.7915047479659072|0.003508771958074...|0.003508772458697...|0.003508771998836...|0.003508771986175284|0.003508772239943168|0.003508771989834784|0.003508772095826...|0.003508772035184...|     0.00350877194719424|0.003508771937044506| 0.00350877196234879|0.003508772035997405|0.003508771939155...|0.44763348857359475|0.49991026331307836| 0.9879517951323247|4.352226720647773...|0.41673536685902723|0.14111431708377675|world/life|0.9428571428571428|lata mangeshkarch...|[lata, mangeshkar...|[lata, mangeshkar...|[-0.0385219775745...|  0.0|[0.90167532035899...|[0.27977715748097...|       0.0|\n",
            "|106|    lata mangeshkar|le chal ri nindiy...|        1954|  pop|stand stand walk ...| 64|0.005847953270329798|  0.7644234903064051|0.005847953245527655|0.005847953219813371|0.005847953216374408|0.005847953238836...|0.005847953236684528|0.005847953349623759|0.005847953243036203|0.005847953229246...|0.005847953593360222|     0.00584795331757145|0.005847953243048659|0.005847953355151...|  0.1361613040694914|0.005847953216374408| 0.4248889851619192| 0.5110632515447529| 0.9889558122046308|  0.8076923076923076| 0.5640972794723825|0.17014425275343933|  violence|0.9428571428571428|lata mangeshkarle...|[lata, mangeshkar...|[lata, mangeshkar...|[-0.0139763598186...|  0.0|[5.69794720644735...|[0.91039181648511...|       0.0|\n",
            "|138|        a. m. rajah|       gopiparivrito|        1954|  pop|deal pharmaceutic...| 73|  0.1670886179902593|   0.219531206781843| 0.06706831091214623|9.930486674983208E-4|9.930486972532769E-4| 0.06533341708526158| 0.06439661267373115| 0.07584796494531768|  0.3288172849785105|9.930487297763074E-4| 9.93048703802307E-4|    9.930486844038947E-4|9.930486941951086E-4| 9.93048687120302E-4|9.930487824862287E-4|9.930489922854815E-4|0.48229177948662416| 0.5372663641258364| 0.8504014562263618|4.504048582995951E-5| 0.7186727122835943|0.30228051166362746|   obscene|0.9428571428571428|a. m. rajahgopipa...|[a, m, rajahgopip...|[m, rajahgopipari...|[-0.0319110336021...|  0.0|[0.49046905923262...|[0.19900074041474...|       2.0|\n",
            "|167|           les paul|baby, won't you p...|        1955|  pop|feel okay good ca...| 63|9.569378606787718E-4|  0.3449721251958585|9.569379297077913E-4|9.569378542134085E-4|0.019824127934020913|9.569378051809456E-4|9.569378163995402E-4| 0.06316060539133841|0.060289039406435485|9.569378516739864E-4|9.569378367750137E-4|     0.18761549647390727| 9.56937864728104E-4| 0.15696644813810964|9.569378272350818E-4| 0.11910700507393757| 0.6804938806455106|  0.648411660641489| 0.8162648757679476|                 0.0|  0.258037922506183|0.30228051166362746|  violence|0.9285714285714286|les paulbaby, won...|[les, paulbaby, w...|[les, paulbaby, w...|[-0.0322304410510...|  0.0|[1.43150947108092...|[0.38824080104899...|       0.0|\n",
            "|168|      frankie laine|             jezebel|        1955|  pop|jezebel jezebel d...| 59|0.002105263218669...|  0.3258093603694923|   0.221627553603152|0.002105263547084...|0.002105263170105...|0.002105263161557...| 0.11785666403418286|0.002105263385407547|0.002105263212103443|  0.1524720074203089|0.002105263255773742|    0.002105263377682...|0.059133237045055964|0.002105263204759...|  0.0957327552794338|0.002105263165174908| 0.5472760749485542| 0.6820244596569494| 0.8353412001417674|1.082995951417004E-6| 0.3920032976092333|0.33931870544905895|  violence|0.9285714285714286|frankie lainejeze...|[frankie, laineje...|[frankie, laineje...|[9.16120347877343...|  0.0|[0.54576483016372...|[0.16243551913508...|       2.0|\n",
            "|192|          ted heath|  take the “a” train|        1956|  pop|drinkin team dani...|199|5.159959145993697E-4|5.159959122429483E-4|5.159958918854699E-4|5.159959059110005E-4|5.159958908855636E-4|5.159958765620293E-4|5.159958879747594E-4| 0.13661102503590045| 0.30439729129557974|0.020922467455093182|  0.4838283316549186|    5.159958891382151E-4|5.159959117209179E-4|0.017200668964822613|5.159958881644072E-4|5.159958959201566E-4| 0.5418607169933933|0.44006871266312847| 0.9367469244447033|0.006265182186234818| 0.2920445177246496|0.17815251086920833|   obscene|0.9142857142857143|ted heathtake the...|[ted, heathtake, ...|[ted, heathtake, ...|[-0.0572119552560...|  0.0|[0.60687594748217...|[0.18763925979519...|       1.0|\n",
            "|217|       the platters| on my word of honor|        1956|  pop|word belong true ...| 32|0.001879699256639...|0.001879699347988...| 0.32432393922293545|0.001879699271609...|0.001879699248879663|0.001879699251673...|   0.339290188501554| 0.25798116549155997|0.001879699266429...|0.001879699401368...|0.001879699275540...|     0.05020921720136033|0.001879699249766...|0.001879699268229...|0.001879699425195...|0.001879699248120...|0.49312249539694575|  0.728661897802733| 0.8333331659971547|                 0.0| 0.5146331409727947|0.41139302849097986|  romantic|0.9142857142857143|the platterson my...|[the, platterson,...|[platterson, word...|[0.01968414925025...|  0.0|[1.35195648631228...|[0.30895469387420...|       0.0|\n",
            "|239|       the platters|      you've changed|        1956|  pop|change sparkle go...| 39|0.001594896345749...|0.001594896348490...| 0.48906857044426305|0.001594896339045...|0.001594896496204...|0.001594896338821152|0.044702860356425664| 0.29559520265121975|0.001594896349929...|0.001594896370364...|0.001594896357936...|    0.001594896340392479|0.001594896341245...|0.001594896367866...| 0.14670992105690572|0.001594896490111...| 0.3501570453806997| 0.6632053944568366| 0.8574295757325059|                 0.0| 0.3827287716405606|0.32230115695304995|world/life|0.9142857142857143|the plattersyou'v...|[the, plattersyou...|[plattersyou, ve,...|[0.03742210896367...|  0.0|[1.58788465406439...|[0.31799303328860...|       0.0|\n",
            "|258|    harry belafonte|             hosanna|        1956|  pop|hosanna build hou...| 88|8.920607361493097E-4|  0.6060733234695204|8.920606770443827E-4|8.920606619834395E-4|8.920606601249483E-4| 8.92060662306666E-4|8.920606656396206E-4|8.920606645190696E-4|8.920606803459044E-4|8.920606833672893E-4|  0.3557758671830705|    0.023877838582185455|8.920606837876815E-4|  8.9206066092056E-4|8.920606681458368E-4|8.920606759560934E-4|  0.611177298819452| 0.6373612286234391| 0.7158631685373179|                 0.0| 0.7763808738664468|0.40838993169756643|  violence|0.9142857142857143|harry belafonteho...|[harry, belafonte...|[harry, belafonte...|[0.06338076845460...|  0.0|[-0.8540128000168...|[0.04574026336770...|       5.0|\n",
            "|276|         jerry vale|summertime in venice|        1956|  pop|dream summertime ...| 31|0.002631578999851...|0.002631578964178397|0.002631579153739...|0.002631579145846725|0.002631578968463697|0.002631578968703074| 0.07680503657179746|0.002631579233711...|0.002631579025481...| 0.31216179475274847|0.002631578987357118|    0.002631579072731632|0.002631578947368...|0.002631579012974...| 0.15188972417959037| 0.10106899428449115| 0.1779486624065851| 0.5082942337768889| 0.7891564148156776|1.649797570850202...|0.19620774938169827| 0.2141896723901687|     music|0.9142857142857143|jerry valesummert...|[jerry, valesumme...|[jerry, valesumme...|[0.08110762257693...|  0.0|[1.85362327641179...|[0.40539031417242...|       0.0|\n",
            "+---+-------------------+--------------------+------------+-----+--------------------+---+--------------------+--------------------+--------------------+--------------------+--------------------+--------------------+--------------------+--------------------+--------------------+--------------------+--------------------+------------------------+--------------------+--------------------+--------------------+--------------------+-------------------+-------------------+-------------------+--------------------+-------------------+-------------------+----------+------------------+--------------------+--------------------+--------------------+--------------------+-----+--------------------+--------------------+----------+\n",
            "only showing top 20 rows\n",
            "\n"
          ]
        }
      ]
    },
    {
      "cell_type": "code",
      "source": [],
      "metadata": {
        "id": "u4uXUnUueMtU"
      },
      "execution_count": null,
      "outputs": []
    }
  ]
}